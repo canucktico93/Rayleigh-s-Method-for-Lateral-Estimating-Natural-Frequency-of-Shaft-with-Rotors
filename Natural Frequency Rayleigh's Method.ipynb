{
 "cells": [
  {
   "cell_type": "code",
   "execution_count": 1,
   "metadata": {},
   "outputs": [
    {
     "name": "stdout",
     "output_type": "stream",
     "text": [
      "Approximate first natural frequency of rotor  16.84343508004408 Hz\n",
      "Approximate critical speed  105.8304238173662 rad/s\n",
      "Approximate critical speed in rpm  11.082536066364396  rpm\n"
     ]
    }
   ],
   "source": [
    "\"\"\" This code is to estimate the first natural requency of a shaft with rotors. \n",
    "The code was developed by referecning Mechanical Vibrations 5th edition by RAO. \n",
    "\n",
    "\"\"\"\n",
    "import numpy as np\n",
    "\n",
    "masses = [100, 400, 200]  # Enter list of masses in kg\n",
    "l = [0.5,0.5, 0.5,0.5]  # Enter lengths corresponding to distance between masses\n",
    "\n",
    "\"\"\" First length is from leftmost point to first mass\n",
    "# Second length is distance between first mass and second mass\n",
    "# Third length is distance from second mass to third mass\n",
    "\"\"\"\n",
    "\n",
    "#enter the following values:\n",
    "\n",
    "L = 2 # Total shaft length in meters\n",
    "E = 2.07 * 10**11  # N/m^2 modulus of elasticity\n",
    "d = 0.1  # Shaft diameter in meters\n",
    "I = np.pi * d**4 / 64  # Moment of inertia, m^4\n",
    "g = 9.81  # m/s^2 gravitational constant\n",
    "\n",
    "#below is where the computation happens\n",
    "\n",
    "x = []  # Distance from left datum to mass\n",
    "\n",
    "size = len(masses)\n",
    "deflectionMatrix = [[0 for _ in range(size)] for _ in range(size)]\n",
    "\n",
    "for i in range(len(masses)):\n",
    "    if i == 0:\n",
    "        x.append(l[0])\n",
    "    else:\n",
    "        x.append(x[i-1] + l[i])\n",
    "\n",
    "for i in range(len(masses)):   \n",
    "    P = masses[i] * g \n",
    "    a = x[i]\n",
    "    b = L - a\n",
    "  \n",
    "    for j in range(len(masses)):\n",
    "        if j <= i:\n",
    "            deflectionMatrix[i][j] = (P * b * x[j]) * (L**2 - b**2 - (x[j])**2) / (6 * E * L * I)\n",
    "        else:\n",
    "            deflectionMatrix[i][j] = -P * a * (L - x[j]) * (a**2 + x[j]**2 - (2 * L * x[j])) / (6 * E * L * I)                \n",
    "     \n",
    "\n",
    "#frequency calculation intermediate steps to manipulate matrix  \n",
    "totalDeflections = np.sum(deflectionMatrix, axis=0)\n",
    "totalDeflections = np.array(totalDeflections)\n",
    "masses = np.array(masses)\n",
    "numeratorSumProduct = np.dot(totalDeflections,masses) \n",
    "totalDeflectionsSquared = totalDeflections**2\n",
    "denominatorSumProduct = np.dot(masses, totalDeflectionsSquared)\n",
    "\n",
    "#final answer in rad/s\n",
    "omega = (g*numeratorSumProduct/denominatorSumProduct)**0.5 #fundamental frequency of the shaft with rotor\n",
    "rpm = omega * 2 * np.pi/60\n",
    "frequency = omega/(2*np.pi)\n",
    "\n",
    "print(\"Approximate first natural frequency of rotor \", frequency, \"Hz\")\n",
    "print(\"Approximate critical speed \", omega, \"rad/s\")\n",
    "print(\"Approximate critical speed in rpm \", rpm, \" rpm\")\n",
    "\n",
    "\n",
    "\n",
    "\n",
    "\n",
    "\n"
   ]
  }
 ],
 "metadata": {
  "kernelspec": {
   "display_name": "venv",
   "language": "python",
   "name": "python3"
  },
  "language_info": {
   "codemirror_mode": {
    "name": "ipython",
    "version": 3
   },
   "file_extension": ".py",
   "mimetype": "text/x-python",
   "name": "python",
   "nbconvert_exporter": "python",
   "pygments_lexer": "ipython3",
   "version": "3.13.0"
  }
 },
 "nbformat": 4,
 "nbformat_minor": 2
}
